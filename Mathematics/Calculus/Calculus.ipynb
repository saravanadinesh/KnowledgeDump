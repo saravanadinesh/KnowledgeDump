{
 "cells": [
  {
   "cell_type": "markdown",
   "id": "18fe6f79-34c3-489d-997e-8524fac48000",
   "metadata": {},
   "source": [
    "# Integration\n",
    "  + $ \\int_a^a f(x) dx = 0 $. When the lower and upper limits are equal, the integration results in 0 and not f(0). \n",
    "  "
   ]
  }
 ],
 "metadata": {
  "kernelspec": {
   "display_name": "Python 3 (ipykernel)",
   "language": "python",
   "name": "python3"
  },
  "language_info": {
   "codemirror_mode": {
    "name": "ipython",
    "version": 3
   },
   "file_extension": ".py",
   "mimetype": "text/x-python",
   "name": "python",
   "nbconvert_exporter": "python",
   "pygments_lexer": "ipython3",
   "version": "3.10.6"
  }
 },
 "nbformat": 4,
 "nbformat_minor": 5
}
