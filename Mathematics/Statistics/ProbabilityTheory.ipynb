{
 "cells": [
  {
   "cell_type": "markdown",
   "metadata": {},
   "source": [
    "# Bayes rule\n",
    "One of the best ways to understand Bayes rule is to compare the posterior probility to prior probability.\n",
    "\n",
    "<img src=\"bayes.png\" width=500/>\n",
    "\n",
    "If the posterior probability is very different from prior probability then the evindence is highly significant. Let us look at what increases the probability of the hypotheses (prior) when a new evidence is presented: Clearly, the lower $P(e)$ is and the higher $P(e | H)$ is, the higher the posterior probability. In other words, if the probablity that the evidence occurs is in general low, but when $H$ it becomes high, then the posterior probability becomes high. On the other hand, if the chance of seeing the evindence when $H$ occurs is very low, then it lowers the probability of $H$ compared to the prior by a large amount. That also makes the evidence significant. Basically, we want to know if the presence of evidence significantly changes the story or not. "
   ]
  },
  {
   "cell_type": "code",
   "execution_count": null,
   "metadata": {},
   "outputs": [],
   "source": []
  },
  {
   "cell_type": "code",
   "execution_count": null,
   "metadata": {},
   "outputs": [],
   "source": []
  }
 ],
 "metadata": {
  "language_info": {
   "name": "python"
  }
 },
 "nbformat": 4,
 "nbformat_minor": 2
}
