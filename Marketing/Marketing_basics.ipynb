{
 "cells": [
  {
   "cell_type": "markdown",
   "id": "afcf905b-cc48-416c-bd7b-552a2ecb6046",
   "metadata": {},
   "source": [
    "# Marketing Mix\n",
    "**Product**/**Consumer**: Understanding what problems customers need to be solved, i.e., what they expect in a product. It is limited to product specification, but product packaging, labeling etc., and also associated warranties/guarantees.\n",
    "\n",
    "**Pricing**/**Cost**: Understanding the cost that customers are willing to pay for the solution. \n",
    "\n",
    "**Place**/**Convenience**: Once you correctly identified what the problem is and solved it, now you need to figure out what is the best way to get the product into the hands of the customers. Where to sell, what distribution channels to use etc., are parts of this activity\n",
    "\n",
    "**Promotion**/**Communication**: Finally, customers need to know that a solution for their problem exists and know where to go to buy that solution. Adverting, event marketing, promoting in trade shows etc. are parts of this. \n",
    "\n",
    "# Terms\n",
    "**Content marketing**: Creating media content as one of the ways of advertising. Ex. Redbull making stunt videos, B&H posting \n",
    "\n",
    "# Metrics\n",
    "**AAU** - Awareness, Attitude and Usage. It is metric used for measuring brand awareness. \n",
    "\n",
    "# Miscellaneous\n",
    "  + Brand recognition has two components: brand recognition and brand recall.\n"
   ]
  }
 ],
 "metadata": {
  "kernelspec": {
   "display_name": "Python 3 (ipykernel)",
   "language": "python",
   "name": "python3"
  },
  "language_info": {
   "codemirror_mode": {
    "name": "ipython",
    "version": 3
   },
   "file_extension": ".py",
   "mimetype": "text/x-python",
   "name": "python",
   "nbconvert_exporter": "python",
   "pygments_lexer": "ipython3",
   "version": "3.10.6"
  }
 },
 "nbformat": 4,
 "nbformat_minor": 5
}
