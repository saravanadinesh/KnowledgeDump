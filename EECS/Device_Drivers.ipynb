{
 "cells": [
  {
   "cell_type": "markdown",
   "metadata": {},
   "source": [
    "# Overview\n",
    "\n",
    "<img src = \"linux_highlevel.png\" width=600>\n",
    "\n",
    "One of the functions of the kernel is to encapsulate the many hardware interfaces of a computer system and present them in a consistent manner to user space programs. The kernel has frameworks designed to make it easy to write a device driver. Kernel device driver code runs at a high privilege level and has full access to the processor address space and hardware registers. It can handle interrupts and DMA transfers. It can make use of the sophisticated kernel infrastructure for synchronization and memory management.\n",
    "\n",
    "There are three types of drivers, namely, *character*, *block* and *network* drivers. *Character* drivers are for unbuffered I/O, *block* for buffered I/O, like disk read/write, *network* for tx/rx of network packets. Character devices and block devices are identified in user space by a special file called a **device node**. This file name is mapped to a device driver using the major and minor numbers associated with it. In *character* drivers Major number is for a type and minor for a specific unit. For ex., all seriel port device nodes have the same major number, but each serial port has a different minor number. In *block* drivers, the major number is for the type of the driver and the minor for a partition. Network devices are not accessed through device nodes, and they do not have major and minor numbers. Instead, a network device is allocated a name by the kernel, based on a string and an instance number (ex. eth0, wlan1).\n",
    "\n",
    "Some devices, such as those on PCI or USB have a query mode which returns resource requirements and a unique ID. The kernel matches the identifier and possibly other characteristics with the device drivers, and marries them up.\n",
    "However, most of the hardware blocks on an embedded board do not have such identifiers. You have to provide the information yourself in the form of a **device tree** or as C structures known as **platform data**. In the standard driver model for Linux, device drivers register themselves with the appropriate subsystem: PCI, USB, open firmware (device tree), platform device, and so on. The registration includes an identifier and a callback function called a probe function that is called if there is a match between the ID of the hardware and the ID of the driver. For PCI and USB, the ID is based on the vendor and the product IDs of the devices; for device tree and platform devices, it is a name (an text string).\n",
    "\n",
    "# Accessing hardware\n",
    "Device drivers must first request the kernal for request to access IO ports. If request is granted, the device drivers can write/read device registers using the following command pairs:\n",
    "  + inb/outb: For 8-bit registers\n",
    "  + inw/outw: For 16-bit registers\n",
    "  + inl/outl: For 32-bit registers\n",
    "  \n",
    "# Interrupt handling\n",
    "The device driver must request kernel to handle an interrupt using *request_irq* function and use *free_irq* to release a granted interrupt. Typically linux interrupt handlers work in two phases: An interrupt phase, which runs in interrupt context and implement critical functions and a thread phase that executes in process context (just like any other user process) that handles not so important functions. If the driver wants to do this, it needs to use *request_threaded_irq* instead of *request_irq*. A device driver can share an interrupt with another device driver. In this case, when the interrupt occurs, the ISRs of both device drivers will be executed. \n",
    " \n",
    "# Crashes\n",
    "Core dump occurs when a user space application crashes. An oops happens when kernel space code experiences faults/exceptions. Kernel panic is basically a worse version of oops. In all of these, the dump usually contains processor state, stack trace (function calls), There are many tools available to debug them. GDB can be used to debug these messages as well.\n",
    "\n",
    "# References\n",
    "  + [Linux architecture](https://linux-kernel-labs.github.io/refs/heads/master/lectures/arch.html)\n",
    "  + [Embedded Linux device drivers: Understanding their role](https://www.embedded.com/embedded-linux-device-drivers-understanding-their-role/)\n",
    "  + [Linux IO access and interrupts](https://linux-kernel-labs.github.io/refs/heads/master/labs/interrupts.html)"
   ]
  },
  {
   "cell_type": "code",
   "execution_count": null,
   "metadata": {},
   "outputs": [],
   "source": [
    "# Useful commands\n",
    "$ cat /proc/devices # Lists all the character and block drivers currently loaded and active\n",
    "$ ip link show # Lists all network drivers currently loaded and active\n",
    "$ lsusb # Lists all USB devices\n",
    "$ lspci # Lists all PCI devices"
   ]
  }
 ],
 "metadata": {
  "kernelspec": {
   "display_name": "Python 3",
   "language": "python",
   "name": "python3"
  },
  "language_info": {
   "codemirror_mode": {
    "name": "ipython",
    "version": 3
   },
   "file_extension": ".py",
   "mimetype": "text/x-python",
   "name": "python",
   "nbconvert_exporter": "python",
   "pygments_lexer": "ipython3",
   "version": "3.8.10"
  }
 },
 "nbformat": 4,
 "nbformat_minor": 4
}
