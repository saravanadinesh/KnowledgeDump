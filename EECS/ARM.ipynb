{
 "cells": [
  {
   "cell_type": "markdown",
   "metadata": {},
   "source": [
    "# Basics\n",
    "ARM supplies IPs such as processor cores, bus switches, NVIC etc.ARM also supplies processor IP that combines some of its other IPs: Cortex M4 has a processor core, Nested Vector Interrupt Controller (NVIC), a Memory Protection Unit (MPU). It also has several memeory, device interface buses, a Trace port interface, Debug port interface.We will use cortex M4 as the representative processor (It is a ARM-V7 architecture. The latest architecture is v8)\n",
    "\n",
    "<pre>\n",
    "<figcaption>Cortex M4 Overview</figcaption>\n",
    "<img src=\"cortexm4_overview.webp\" width=800/>\n",
    "\n",
    "</pre>\n",
    "\n",
    "<pre>\n",
    "<figcaption>Cortex M4 Block diagram</figcaption>\n",
    "<img src=\"cortexm4_blockdiagram.svg\" width=800/>\n",
    "\n",
    "</pre>\n",
    "\n",
    "<pre>\n",
    "<figcaption>Cortex M4 System address map</figcaption>\n",
    "<img src=\"cortexm_systemAddressMap.png\" width=1024/>\n",
    "\n",
    "</pre>\n",
    "\n",
    "\n",
    "The system address map shown is only the recommended map. User can change it (with some exceptions such as the addresses of private peripheral bus)\n",
    "\n"
   ]
  },
  {
   "cell_type": "markdown",
   "metadata": {},
   "source": [
    "# Registers\n",
    "The processor has 32-registers that includes 13 general-purpose registers and several special-purpose registers.\n",
    "\n",
    "The processor has the following 32-bit registers:\n",
    "\n",
    "  + 13 general-purpose registers, R0-R12.\n",
    "  + Stack Pointer (SP), R13 alias of banked registers, SP_process and SP_main.\n",
    "  + Link Register (LR), R14.\n",
    "  + Program Counter (PC), R15.\n",
    "  + Special-purpose Program Status Registers, (xPSR).\n",
    "\n",
    "**Stack pointer**\n",
    "Register R13 is used as the Stack Pointer (SP). Because the SP ignores writes to bits [1:0], it is autoaligned to a word, four-byte boundary.\n",
    "\n",
    "Handler mode always uses SP_main, but you can configure Thread mode to use either SP_main or SP_process.\n",
    "\n",
    "**Link register**\n",
    "Register R14 is the subroutine Link Register (LR).\n",
    "\n",
    "The LR receives the return address from PC when a Branch and Link (BL) or Branch and Link with Exchange (BLX) instruction is executed.\n",
    "\n",
    "The LR is also used for exception return.\n",
    "\n",
    "At all other times, you can treat R14 as a general-purpose register.\n",
    "\n",
    "**Program counter**\n",
    "Register R15 is the Program Counter (PC).\n",
    "\n",
    "Bit [0] is always 0, so instructions are always aligned to word or halfword boundaries.\n",
    "\n",
    "**xPSR**\n",
    "It contains\n",
    "\n",
    "## Stack\n",
    "The stack is a RAM area that is reserved to be used during the execution of the program to temporarily store register values, return address (during subroutine calls), parameter values (during subroutine calls), return value, local variables of a subroutine etc. For ex., when a subroutine is called, ARM Procedure Call Standard requires that it is the subroutines job to preserve the state of registers *r4*-*r11* if it plans to use any of it. So the subroutine will push the registers it wants to use in *r4*-*r11* into the stack and then once it is done using them, it will pop the stack and restore the register values. Similarly, when the main routine calls the subroutine, it will use the *bl* instruction, which will automatically store the return address in the *LR* register. The subroutine hence first pushes the contents of *LR* into the stack and then, at the end of execution, pops the originally pushed stack content into *PC*. This is all captured in the below example:\n",
    "(*Note: ip register is just an alias for r12. It is used as an Intra-Procedural scratch pad register and hence the name. Don't worry about it yet*)\n"
   ]
  },
  {
   "cell_type": "code",
   "execution_count": null,
   "metadata": {},
   "outputs": [],
   "source": [
    "    .globl  main\n",
    "    .extern abs\n",
    "    .extern printf\n",
    "\n",
    "    .text\n",
    "output_str:\n",
    "    .ascii     \"The answer is %d\\n\\0\"\n",
    "\n",
    "    @ returns abs(z)+x+y\n",
    "    @ r0 = x, r1 = y, r2 = z\n",
    "    .align 4\n",
    "do_something:\n",
    "    push    {r4, lr}\n",
    "    add     r4, r0, r1\n",
    "    mov     r0, r2\n",
    "    bl      abs\n",
    "    add     r0, r4, r0\n",
    "    pop     {r4, pc}\n",
    "\n",
    "main:\n",
    "    push    {ip, lr}\n",
    "    mov     r0, #1\n",
    "    mov     r1, #3\n",
    "    mov     r2, #-4\n",
    "    bl      do_something\n",
    "    mov     r1, r0\n",
    "    ldr     r0, =output_str\n",
    "    bl      printf\n",
    "    mov     r0, #0\n",
    "    pop     {ip, pc}"
   ]
  },
  {
   "cell_type": "markdown",
   "metadata": {},
   "source": [
    "Besides these uses, parameters passed to a sub-routine and its local variables can be stored in the stack and instructions can push/pop them using their relative locations from the *SP* register. The important point to note here is that, as the code executes and various subroutines are called and returned, the stack grows and wanes. Since this happens in runtime, it may not be possible to predict which functions may be called when, and hence, it is not possible to predict exactly how big the stack needs to be. So sometimes, the stack pointer goes out of the designated area into other memory areas (ex. heap) and this condition is called **stack overflow**\n",
    "\n",
    "Main stack pointer vs. process stack pointer"
   ]
  },
  {
   "cell_type": "markdown",
   "metadata": {},
   "source": [
    "# FIQ vs. IRQ\n",
    "Faster Interrupt Request (FIQ) has higher priority than IRQ. It also doesn't require state saving into the stack because each FIQ has its own shadow registers."
   ]
  },
  {
   "cell_type": "markdown",
   "metadata": {},
   "source": [
    "\n",
    "# References\n",
    "1. [ARM cortex reference manual](https://developer.arm.com/documentation/100166/0001)\n",
    "2. [Flash Patch and Breakpoint unit](https://developer.arm.com/documentation/ddi0337/h/debug/about-the-flash-patch-and-breakpoint-unit--fpb-)"
   ]
  }
 ],
 "metadata": {
  "kernelspec": {
   "display_name": "Python 3",
   "language": "python",
   "name": "python3"
  },
  "language_info": {
   "codemirror_mode": {
    "name": "ipython",
    "version": 3
   },
   "file_extension": ".py",
   "mimetype": "text/x-python",
   "name": "python",
   "nbconvert_exporter": "python",
   "pygments_lexer": "ipython3",
   "version": "3.8.10"
  }
 },
 "nbformat": 4,
 "nbformat_minor": 4
}
