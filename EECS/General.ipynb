{
 "cells": [
  {
   "cell_type": "markdown",
   "metadata": {},
   "source": [
    "# FPGA vs CPLD\n",
    "PLD has logic blocks with fuses interconnecting gates that can be blown (or not blown) to achieve required combinational logic circuit. CPLDs have several PLD blocks, where the connections between the PLDs themselves is configurable. CPLDs can be thought of configurable PCB with with several 74xx series logic ICs. Original PLDs were not reconfigurable and were based on ROMs. Modern ones are reconfigurable - they are based out of EEPROM. Many can be reconfigured several hundred times. CPLDs retain programmed logic through power cycle and will start functioning right after power up.\n",
    "\n",
    "FPGAs have much finer logic blocks that CPLDs and hence more customizable than CPLDs. They are based on RAMs. FPGAs do not retain their configuration and hence require time to configure themselves using configuration stored in a flash. This means they can start working right after power up - like uCs they may take several seconds to boot up and become functional. FPGA can be thought of as reconfigurable silicon cores rather than reconfigurable PCBs. FPGAs may have fixed function blocks such as multipliers, RAMs, PCIE controllers etc. \n",
    "\n",
    "### References\n",
    "[1] https://www.circuitstoday.com/understanding-fpga-and-cpld\n",
    "[2] https://numato.com/kb/cpld-vs-fpga-differences-one-use/ \n"
   ]
  }
 ],
 "metadata": {
  "kernelspec": {
   "display_name": "Python 3",
   "language": "python",
   "name": "python3"
  },
  "language_info": {
   "codemirror_mode": {
    "name": "ipython",
    "version": 3
   },
   "file_extension": ".py",
   "mimetype": "text/x-python",
   "name": "python",
   "nbconvert_exporter": "python",
   "pygments_lexer": "ipython3",
   "version": "3.8.10"
  }
 },
 "nbformat": 4,
 "nbformat_minor": 4
}
