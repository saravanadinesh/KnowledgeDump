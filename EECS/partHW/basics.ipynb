{
 "cells": [
  {
   "cell_type": "markdown",
   "metadata": {},
   "source": [
    "# How batteries work\n",
    "[This](https://www.youtube.com/watch?v=V5TqMuHaDuY) has the most acceptable explanation of all. Here is my unerstanding so far: A solution is something that will have positively charge ions (cations) and negatively charged ions (anions) existing in a lose form. So the solution overall is neutral. But as these ions are swimming around, they could react with things. A cell is made up of two half cells. The basic cell everyone uses to explain how a cell works consists of a zinc electrode submerged in a zinc nitrate solution making one half cell and a copper electrode dipped in a copper nitrate solution forming another half cell. Initially, the zinc electrode reacts with one of the swimming nitrate anions and releases two electrons. These electrons travel through the wire connecting the two electrodes to the copper electrode because the copper cations in the copper nitrate solution attract them. The result is that one zinc atom (gets oxidised) gets released into the zinc nitrate solution making it positively charged overall (because there is now one zinc cation too many in the solution. On the copper side, one copper cation gains two electrons and (gets reduced) becomes a copper atom leaving the solution and attaching to the copper electrode, making the copper nitrate solution slightly negatively charged. All of this is possible only because shit is swimming around in the solution - if cations and anions are attached tightly to each other, none of this would happen. Here is where it gets even more vague: After a point, the copper solution is too negatively charged and zinc solution two negatively charged for the swimming motherfuckers to continue reacting with their respective electrodes. Now comes the salt bridge - It is another solution, like potassium nitrate, that connects the zinc nitrate and copper nitrate solutions. This bridge allows the extra cations on one side to migrate over to the other side and extra anions to come over to this side. One may ask, if there is a salt bridge, why the electrons didn't go over the salt bridge instead of the wire. So apparently electrons have to remain very close to protons and that means they can travel only by jumping from one atom to another atom which is literally rubbing this atom. In a metal wire, these atoms are all right next to each other and hence this is possible. But in a solution, the atoms are too far away from one another for this to happen. "
   ]
  }
 ],
 "metadata": {
  "kernelspec": {
   "display_name": "Python 3",
   "language": "python",
   "name": "python3"
  },
  "language_info": {
   "codemirror_mode": {
    "name": "ipython",
    "version": 3
   },
   "file_extension": ".py",
   "mimetype": "text/x-python",
   "name": "python",
   "nbconvert_exporter": "python",
   "pygments_lexer": "ipython3",
   "version": "3.8.5"
  }
 },
 "nbformat": 4,
 "nbformat_minor": 4
}
