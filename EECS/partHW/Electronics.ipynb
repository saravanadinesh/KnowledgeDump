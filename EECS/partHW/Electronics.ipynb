{
 "cells": [
  {
   "cell_type": "markdown",
   "metadata": {},
   "source": [
    "# Protocols\n",
    "## UART\n",
    "+ Asynchronous serial protocol\n",
    "+ Requires pull-up\n",
    "+ Dedicated lines for Tx and Rx (typically labelled TXD, RXD)\n",
    "+ Baud rate (i.e. symbol rate) is basically bit rate including start, stop, party bits etc.\n",
    "+ Typical bit rates are 10, 300, 600, 1200, 2400, 4800, 9600, 14400, 19200, 38400, 57600, 115200, 128000 and 256000 bits per second\n",
    "\n",
    "The [reason why](https://toshiba.semicon-storage.com/ap-en/semiconductor/knowledge/e-learning/mcu-sim/fn369sio_id/fn369sio_d3.html) the baud rate in UART mode is 1/16 of clocks\n",
    "Unlike in synchronous communication, UART has no clocks to determine the data. Instead, the transmit side and the receive side determine the transmission speed, called the baud rate, and the bit configuration in advance, and determine the data position according to the start bit. \n",
    "\n",
    "<img src=\"uartclk.png\" width=1000/> \n",
    "\n",
    "For example, in the case of 9600 bauds, each bit interval (\"a\" in the figure) is about 104 μs. The data output timing of the transmit side is indicated by a green arrow in the figure. On the receive side, the data is fetched in the part indicated by a red arrow in the figure. To realize this, the clock supplied to the UART receive part uses one with 16 times as many as the baud rate. The data are confirmed in 7th clock, 8th clock, and 9th clock, and judged 0 or 1 by majority. Sometimes instead of 16x clock, the receiver might use 8x or some other x. \n",
    "\n",
    "## I2C\n",
    "+ Inter IC protocol\n",
    "+ Synchronous serial protocol\n",
    "+ Contains data and clock labelled SDA, SCL. SDA is used both for Tx and Rx.\n",
    "+ Both lines require pullup\n",
    "+ Typical speed is 100Kbps. There is a 400Kbps fast mode, 1Mbps fast mode +, 3.4 Mbps high speed mode and 5Mbps ultra fast mode\n",
    "+ I2C can have multiple masters/multiple slaves\n",
    "\n",
    "## SPI\n",
    "+ Serial peripheral interface\n",
    "+ SD card uses this \n",
    "+ Has MISO, MOSI, SCLK and one or more SS (slave select) lines. Single master/Multiple slaves possible. \n",
    "+ Daisy chaining is possible"
   ]
  }
 ],
 "metadata": {
  "kernelspec": {
   "display_name": "Python 3",
   "language": "python",
   "name": "python3"
  },
  "language_info": {
   "codemirror_mode": {
    "name": "ipython",
    "version": 3
   },
   "file_extension": ".py",
   "mimetype": "text/x-python",
   "name": "python",
   "nbconvert_exporter": "python",
   "pygments_lexer": "ipython3",
   "version": "3.8.10"
  }
 },
 "nbformat": 4,
 "nbformat_minor": 4
}
