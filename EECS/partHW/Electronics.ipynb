{
 "cells": [
  {
   "cell_type": "markdown",
   "metadata": {},
   "source": [
    "# Protocols\n",
    "## UART\n",
    "+ Asynchronous serial protocol\n",
    "+ Requires pull-up\n",
    "+ Dedicated lines for Tx and Rx (typically labelled TXD, RXD)\n",
    "+ Baud rate (i.e. symbol rate) is basically bit rate including start, stop, party bits etc.\n",
    "+ Typical bit rates are 10, 300, 600, 1200, 2400, 4800, 9600, 14400, 19200, 38400, 57600, 115200, 128000 and 256000 bits per second\n",
    "\n",
    "The [reason why](https://toshiba.semicon-storage.com/ap-en/semiconductor/knowledge/e-learning/mcu-sim/fn369sio_id/fn369sio_d3.html) the baud rate in UART mode is 1/16 of clocks\n",
    "Unlike in synchronous communication, UART has no clocks to determine the data. Instead, the transmit side and the receive side determine the transmission speed, called the baud rate, and the bit configuration in advance, and determine the data position according to the start bit. \n",
    "\n",
    "<img src=\"uartclk.png\" width=1000/> \n",
    "\n",
    "For example, in the case of 9600 bauds, each bit interval (\"a\" in the figure) is about 104 μs. The data output timing of the transmit side is indicated by a green arrow in the figure. On the receive side, the data is fetched in the part indicated by a red arrow in the figure. To realize this, the clock supplied to the UART receive part uses one with 16 times as many as the baud rate. The data are confirmed in 7th clock, 8th clock, and 9th clock, and judged 0 or 1 by majority. Sometimes instead of 16x clock, the receiver might use 8x or some other x. \n",
    "\n",
    "## I2C\n",
    "+ Inter IC protocol\n",
    "+ Synchronous serial protocol\n",
    "+ Contains data and clock labelled SDA, SCL. SDA is used both for Tx and Rx.\n",
    "+ Both lines require pullup\n",
    "+ Typical speed is 100Kbps. There is a 400Kbps fast mode, 1Mbps fast mode +, 3.4 Mbps high speed mode and 5Mbps ultra fast mode\n",
    "+ I2C can have multiple masters/multiple slaves\n",
    "\n",
    "## SPI\n",
    "+ Serial peripheral interface\n",
    "+ SD card uses this \n",
    "+ Has MISO, MOSI, SCLK and one or more SS (slave select) lines. Single master/Multiple slaves possible. \n",
    "+ Daisy chaining is possible\n",
    "\n",
    "# Bluetooth\n",
    "Bluetooth operates at frequencies between 2.402 and 2.480 GHz. It uses frequency hopping spread sprectrum. Regular bluetooth divides data into packets, loading each into one of the 79 bands that are each 1MHz wide. BLE uses 40 bands, each 2MHz wide. In the most widely used mode, transmission power is limited to 2.5 milliwatts, giving it a very short range of up to 10 metres (33 ft). Bluetooth version 4.0 or later contain BLE mode (which has a max 1Mbps throughput). The latest version is 5.3. \n",
    "\n",
    "Normal bluetooth has a master-slave concept. A master can be connected to many slaves, but a slave can only be connected to one master. A network of a master and many slaves is called a \"Piconet\". A master can talk to any slave, request data. But two slaves can't talk to each other. Every bluetooth device has a unique 48-bit address. There are three bluetooth power classes, each defined by max output power/range, namely 100mW/100m, 2.5mW/10m, 1mW/10cm.\n",
    "\n",
    "Bluetooth can operate in various \"profiles\" namely:\n",
    "  - Serial port profile (SPP) - This is basically wireless RS232\n",
    "  - Human interface device (HID) - This is for mouse, keyboard etc.\n",
    "  - Hands-free, Headset profile - Two way audio, low bandwidth\n",
    "  - Advanced audio distribution profile (A2DP) - For playing music on BT headphones. One way, high bandwidth\n",
    "  - A/V remote control profile (AVRCP) - Typically used along with A2DP for the headphones to tell the music playing device to up/down the volume, move to the next music etc.\n",
    "\n",
    "In BLE, there is a master-slave concept as well as a client-server concept. Master (PC/Smartphone) scans, while slave only advertises and participates in pairing if the master wants. The master is most often also the client as it asks the server, which is often the slave, to perform a task. Client can *read* data from the server or *write* data to it. It can also enable the *notify*, *indicate* operations, whereas the operations themselves are performed by the server - this is a way to push data to the client. Notifications are unacknowledged, while indications are acknowledged. Just as in normal bluetooth, a master can connect to many slaves, but a slave can connect to only one master. \n",
    "\n",
    "The client/server of BLE are called GATT (General ATTribute) client/server. The client/server concept is logically distrinct from master/slave concept. It is possible that a single device, master or a slave, can be both a GATT server and a client at the same time. A GATT server has a GATT database that implements one or more *profiles*, and each *profile* is made up of one or more *services*, and each *service* is made up of one or more *characteristics*. For example, the *Heart rate* profile has a *Heart rate* service and *Device Information* service (which is a mandatory service for all profiles). The *Heart rate* service must have a *Heart rate measurement* characteristic, and optionally, *Body sensor location* and *Heart rate control point* characteristics. Every service has a UUID and every characteristic has a UUID. \n",
    "\n",
    "\n",
    "## References:\n",
    "1. [Sparkfun Bluetooth](https://learn.sparkfun.com/tutorials/bluetooth-basics/all) \n",
    "2. [BLE primer](https://community.silabs.com/s/article/ble-master-slave-gatt-client-server-and-data-rx-tx-basics?language=en_US) "
   ]
  }
 ],
 "metadata": {
  "kernelspec": {
   "display_name": "Python 3",
   "language": "python",
   "name": "python3"
  },
  "language_info": {
   "codemirror_mode": {
    "name": "ipython",
    "version": 3
   },
   "file_extension": ".py",
   "mimetype": "text/x-python",
   "name": "python",
   "nbconvert_exporter": "python",
   "pygments_lexer": "ipython3",
   "version": "3.8.10"
  }
 },
 "nbformat": 4,
 "nbformat_minor": 4
}
