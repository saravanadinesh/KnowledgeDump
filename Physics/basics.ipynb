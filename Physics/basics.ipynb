{
 "cells": [
  {
   "cell_type": "markdown",
   "metadata": {},
   "source": [
    "# Fundamental Interactions\n",
    "There are four fundamental interactions anmely gravitational, electromagnetic, strong nuclear and weak nuclear. Of these gravity is the weakest - compared to gravity, electromagnetic, strong and weak nuclear interactions are $10^{36}$, $10^{38}$, $10^{25}$ times stronger respectively. Gravity and electromagnetic interactions have infinite range, whereas, strong and weak nuclear interactions do not. While electromagnetic interactions dominate at atomic scales, when it comes to astronomical distances, gravity dominates because large bodies are electrically neutral (positive and negative charges cancel out), whereas gravity doesn't cancel out as there is no such a thing as positive and negative gravity - or anti-gravity. So gravity always attracts and never repels. \n",
    "\n",
    "## Gravity\n",
    "Mass is the property of an object that causes it to experience a force when it is placed in a gravitational field. This force is given by Newton's law of gravitation:\n",
    "$$\n",
    "F=G{\\frac {m_{1}m_{2}}{r^{2}}}\n",
    "$$\n",
    "where $G$ is the Gravitational constant.\n",
    "\n",
    "The following points about the above equation are noteworthy: \n",
    "+ $F$ acts on both objects in question. Each object experiences an acceleration equal to $F$ divided by their mass. So a small object close to earth would accelerate towards earth and the earth would also accelerate towards the small object, but the acceleration is negligible because earth's mass is very large. \n",
    "+ $F$ on $r$ the distance between the two objects. This means that, as the two objects get closer and closer as they are attracted towards each other, the force increases. So gravity is more of a yank (derivative of force) than a force. \n",
    "+ $r$ is not the distance between the surfaces of the masses, but their centers. So $r$ will almost never become $0$. \n",
    "\n",
    "The last point above has an interesting implication for free falling objects on earth: As the object falls towards earth the distance between the center of the earth and the center of the object changes negligibly, because earth's radius so large. So instead of a yank, one can approximate gravity to a force. Consequently, the object will experience a constant acceleration (instead of a jerk) as given by:\n",
    "$$\n",
    "g = \\frac{F}{m} = G{\\frac{m_g}{r^2_g}}\n",
    "$$\n",
    "where, $m_g$ and $r_g$ are the mass and radius of the earth. $g$ is simply called the \"gravitational field of earth\" and is approximately $9.8 m/s^2$\n",
    "\n",
    "## Electromagnetism\n",
    "Charge is the property of an object that causes it to feel a force, attracting or repelling, when placed in an electric field. This force is given by Coloumb's law:\n",
    "$$\n",
    "F = K_e{\\frac{q_1q_2}{r^2}}\n",
    "$$\n",
    "where, $K_e$ is the Couloumb's constant. The parallels between this formula and Newton's universal law of gravitation are quite obvious\n",
    "\n",
    "# Work and Energy\n",
    "When an object is moved by a distance $r$ against a force $F$ work is said to be done. Or conversely, when a force $F$ is applied on an object across a distance $r$, work is done. Work is defined as \n",
    "$$\n",
    "W = F*r\n",
    "$$\n",
    "Work can be thought of as energy transferred to a system, or as change in energy in the system. Therefore work and energy share the same unit of measurement, namely, joules. \n",
    "\n",
    "Given Newton's law of gravitation and Coloumb's law, one can think of moving an object of a certain mass against gravitational force, or equivalently, move a charge againt an electric force. This means that mechanical and electrical energy are equivalent to each other. Thermal energy, or thermal work, is defined equivalently as well. The basic idea is to convert mechanical energy completely into thermal energy using friction and then measuring it. In fact, Joule was the one who established this equivalence using an [apparatus](https://en.wikipedia.org/wiki/Work_(thermodynamics)#History) that had a falling weight drive a paddle wheel in water, which due to friction, resulted in heating up the water. \n",
    "\n",
    "Without some type of friction, kinetic energy (mechanical energy) or electrical energy cannot be converted into other forms of energy (example: light, heat). Friction is the thing that resists the movement of an object. Resistance in an electrical circuit is basically friction. Friction, as it opposes a force, is also represented as a force and its unit is Newtons. \n",
    "\n",
    "Voltage is potential energy per charge (Joules/coulomb) and current is rate of flow of charge (coulomb/sec). Hence, voltage times current gives power (Joules/sec).\n",
    "\n",
    "\n"
   ]
  }
 ],
 "metadata": {
  "kernelspec": {
   "display_name": "Python 3",
   "language": "python",
   "name": "python3"
  },
  "language_info": {
   "codemirror_mode": {
    "name": "ipython",
    "version": 3
   },
   "file_extension": ".py",
   "mimetype": "text/x-python",
   "name": "python",
   "nbconvert_exporter": "python",
   "pygments_lexer": "ipython3",
   "version": "3.8.5"
  }
 },
 "nbformat": 4,
 "nbformat_minor": 4
}
