{
 "cells": [
  {
   "cell_type": "markdown",
   "metadata": {},
   "source": [
    "# Business - natural course of events\n",
    "Suppose you find out there is a market for a product in your local area - say organic grape juice in the local department store. Market research. Pricing. You make the product and start selling. In the beginning the growth of the company will be limited by the availability of capital and how often you can plowback you earnings, the rate at which you can hire employees etc. At this stage, perhaps you don't spend any money on advertising and people just happen to pick up your product as they browse the aisles. In this case, the growth rate would reduce and eventually become zero. You might realize that to grow any further, you can try one of the following:\n",
    "  1. Spend money on advertising - Increase in implicit costs for some customers\n",
    "  2. Increase the price or decrease the price - whichever is better (Price elasticity)\n",
    "\n",
    "Remember that when customers have to travel from far away to buy your product, their implicit costs increase and hence they will look to pay lower amount than the locals do. If your business is truly innovative, you will be a monopoly and you can decide how much to produce. Your willingness to produce goods at lower prices will be limited by the benefits of engaing in an alternative endeavour. Suppose, relative to the profit you will make by producing certain good is lower than what you would make in alternative endeavour if you used the same capital and effort you put into this endeavour. Everything in business is relative to something else.\n",
    "\n",
    "In the beginning your cost of capital will be high. As you start making money and build credibility, your wacc will go down.\n",
    "\n",
    "# A juice business\n",
    "Let us imagine yourselves running a juice business. Suppose you go to bank and borrow \\$1000 at a monthly compounding interest rate of 10%. You tell your friends about the business and they want to help you out - They gift you a juicer. You own a place near the local university - You open the shop in that place. So you don't pay any rent. The night before you start the business (end of day 0), this is what your balance sheet looks like:\n",
    "\n",
    "$$\n",
    "\\begin{array}{l l | l l}\n",
    "Cash        & 1000  & Debt      & 1000 \\\\\n",
    "Inventory   & 0     & Equity    & 0 \\\\\n",
    "\\hline\n",
    "Assets      & 1000  & L+E       & 1000\n",
    "\\end{array}\n",
    "$$\n",
    "\n",
    "This means you can use the entire \\$1000 dollar to buy fruits. Imagine you do buy \\$1000 of fruits the first day and make juice from them. Students on the way to the university buy the juice. Let us say you sold out all the juice at 3pm itself and made \\$1150. In order for you to operate, you need food. So let us say you spent \\$50 of that money for food during the day. So you are left with \\$1100 at the end of the day. Your balance sheet at the closing time of day 1 would look like:\n",
    "\n",
    "$$\n",
    "\\begin{array}{l l | l l}\n",
    "Cash        & 1100  & Debt      & 1000 \\\\\n",
    "Inventory   & 0     & Equity    & 100 \\\\\n",
    "\\hline\n",
    "Assets      & 1100  & L+E       & 1100\n",
    "\\end{array}\n",
    "$$\n",
    "\n",
    "Basically you made a 10% return on the money in one day! Since you sold out all the juice on that day at 3pm itself, you know that if you make more juice, you can see it. So decide to buy \\$1100 of fruits the next day. On the next day, you sold out all the juice, but this time by 3:30pm. And since you didn't change the markup, you get "
   ]
  }
 ],
 "metadata": {
  "kernelspec": {
   "display_name": "Python 3",
   "language": "python",
   "name": "python3"
  },
  "language_info": {
   "name": "python",
   "version": "3.11.9"
  }
 },
 "nbformat": 4,
 "nbformat_minor": 2
}
