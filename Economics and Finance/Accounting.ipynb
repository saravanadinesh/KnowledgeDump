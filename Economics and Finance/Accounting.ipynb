{
 "cells": [
  {
   "cell_type": "markdown",
   "id": "7fe9ac51-f9e6-4aa6-9531-04dcf1c419c6",
   "metadata": {},
   "source": [
    "# Miscellaneous\n",
    "  + A fully depreciated asset can remain in the company doing productive work (and earning money). However, a fully depreciated asset cannot be depreciated further and hence no depreciation amount can be deducted from the revenue before paying taxes."
   ]
  }
 ],
 "metadata": {
  "kernelspec": {
   "display_name": "Python 3 (ipykernel)",
   "language": "python",
   "name": "python3"
  },
  "language_info": {
   "codemirror_mode": {
    "name": "ipython",
    "version": 3
   },
   "file_extension": ".py",
   "mimetype": "text/x-python",
   "name": "python",
   "nbconvert_exporter": "python",
   "pygments_lexer": "ipython3",
   "version": "3.10.6"
  }
 },
 "nbformat": 4,
 "nbformat_minor": 5
}
