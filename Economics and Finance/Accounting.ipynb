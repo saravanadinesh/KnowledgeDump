{
 "cells": [
  {
   "cell_type": "markdown",
   "id": "7fe9ac51-f9e6-4aa6-9531-04dcf1c419c6",
   "metadata": {},
   "source": [
    "# Miscellaneous\n",
    "  + Professor Damodaran in [this](https://aswathdamodaran.blogspot.com/2022/02/) post explains the line items in the income statement very well. In informal terms, *operating expense* is anything one needs to expend for operating an asset (operating all the *operating assets* of the company to be exact) and hence includes COGS. *Operating income* is hence income from revenue after netting for operating expenses. Below operating expense and income, we will find *financing income* coming from non-operating assets such as cash and equivalents. This is followed by *financing expenses* including the interest on debt, loss due to early extinguishment of debt, underwriter fees related to public offerings (because expenses related to equity financing are also financing expenses) etc. \n",
    "      + It is interesting to juxtapose the idea of operating and financing income/expense with that of cashflow items namely *cashflows from operating activities*, *cashflows from financing activities*\n",
    "  + A fully depreciated asset can remain in the company doing productive work (and earning money). However, a fully depreciated asset cannot be depreciated further and hence no depreciation amount can be deducted from the revenue before paying taxes."
   ]
  },
  {
   "cell_type": "markdown",
   "id": "a0ffcc50-7107-494a-bdb5-3565c0d0b32b",
   "metadata": {},
   "source": [
    "# Shares terminology\n",
    "  + Authorized shares = Issued + unissued shares\n",
    "  + Issued shares = Treasury shares + Outstanding shares\n",
    "  + Treasury shares are repurchased shares\n",
    "  + Sometimes there is an additional component to issued shares called *retired shares* which are shares that were repurchased and cancelled.\n",
    "\n",
    "## Diluted shares outstanding\n",
    "Diluted shares outstanding = Shares outstanding + dilutive effect of options + Non-vested (outstanding) RSUs + dilutive effect of convertible securities\n",
    "\n",
    "## Stock options\n",
    "Stock options are compensation that gives the employee\n",
    "      + The right to buy a sepcific no. of shares\n",
    "      + At a fixed price (Strike price/exercise price/grant price)\n",
    "      + Within an established period of time\n",
    "\n",
    "To find out the dilutive effect of stock options, think about the value of the stock options at the time of purchase. If the stock price is lower than the strike price of an option, then that option is worthless. If the stock price is higher than the strike price, then the value of the option is equal to the difference between the share price and the strike price. In that case you have to assume that all those options will be exercised. Such options are called \"in-the-money\" options.\n",
    "\n",
    "**Example**: Suppose there are 150 shares outstanding and the share price is \\\\$50, and there are 10 options with a strike price of \\\\$20 and 3 with a strike price of \\\\$52, then 10 options are \"in-the-money\". If we assume they are exercised, then the outstanding shares will go up by 10 shares, cash will go up by $10*\\$20 = \\$200$. Original equity value before exercise was \\\\$7500. Now since the cash has gone up, equity will go up by the same amount to \\\\$7700. And the stock price should go to $\\$7700/160 = \\$48.125 $. But that is not how the calculation for dilution is done!! According to Prof. Zirpolo, we need to see that the value of the stock options at \\\\$20 strike price is \\\\$30. So we need to add $10*\\$30 = \\$300$ to the equity value of \\\\$7500 and arrive at the new equity value (after dilution) to \\\\$7800. If you divide this equity value by the current share price of \\\\$50, you get 156 shares, which according to him is the diluted shares outstanding. Alternatively, one could look at the cash contributed by the in-the-money ooptions, i.e., $10*\\$20 = \\$200$, divide that by the current share price and get $\\$200/\\$50$ to get the dilution shares of 4 and subtract that from the shares that have to be issued, i.e., 10 to get the \"incremental shares\" of 6 to add to the current *outstanding shares* to get the *diluted shares outstanding*. \n",
    "\n",
    "Remember that *shares outstanding* is not the same as *options outstanding*. Even in stock options some are vested (a.k.a \"exercisable\" and some are unvested. *options outstanding* contains both exercisable and unvested options. But typically people use *options outstanding* while calculating the *diluted shares outstanding*. Although it is technically incorrect and will end up with a more conservative valutions, this is what is used because it is consistent with GAAP (?)\n",
    "\n",
    "Usually financial statements show a table for *outstanding options* where they list no. of shares in one column and the corresponding weighted-average exercise price. \n",
    "\n",
    "## Restricted stock and Restricted Stock Units (RSUs)\n",
    "Restricted stock is usually service based and RSUs are usually performance based. Restricted stock is considered a share when issued while an RSU is considered a share only when it is vested. Restricted stocks are already included in the *shares outstanding* on the front page of the latest filing. RSUs, on the other hand, are including in *outstanding shares* only when they are vested. When buying a company you have to assume in good faith that the restricted stock/RSU owner, i.e., the employee, would have served until the stock had vested had the company not been acquired. So you have to pay them the current stock price. \n",
    "\n",
    "Neither restricted share, nor RSUs have the concept of a strike price. "
   ]
  },
  {
   "cell_type": "markdown",
   "id": "611010d4-e253-4230-8526-056fe77142b8",
   "metadata": {},
   "source": [
    "# Taxation in the United States\n",
    "  + **Payroll tax** is the tax withheld by the company from an employee's paycheck. THe company also has to pay a payroll tax on its part, along with paying unemployment tax, if applicable. This is collected at the Federal level, and where applicable, state and local level.\n",
    "  + **Income tax** is tax paid on income *other than* salary income (which is payroll tax). This could include rental income, for example. This is collected at the Federal level, and where applicable, state and local level.\n",
    "  + **Sales tax** is tax collected on items sold. Unlike VAT it is paid only once at the retail level. There is no federal sales tax. 45 states collect sales tax. It is possible that sometimes a state doesn't collect tax, but local governments in that state do. Sometimes the vice-versa is true\n",
    "  <figure>\n",
    "    <img src=\"accounting/State_Sales_Taxes.webp\" width=800/> \n",
    "    <figcaption>Sales taxes (2023)</figcaption>\n",
    "  </figure>\n",
    "  \n",
    "  + **Excise tax** on certain goods like tobacco, diesel. It is collected at federal and sometimes state and local levels\n",
    "  + **Corporate income tax** is collected at all levels. Nominal federal income tax rate is a flat 21%. State corporate taxes vary as shown below.\n",
    "  <figure>\n",
    "    <img src=\"accounting/State_Corporate_Taxes.svg\" width=800/> \n",
    "    <figcaption>State corporate tax (2023)</figcaption>\n",
    "  </figure>\n",
    "  An important point is state and municipal taxes are tax deductible at the federal level.\n",
    "  + Most of the income for the federal government comes from payroll and individual income tax\n",
    "  <figure>\n",
    "    <img src=\"accounting/Federal_Government_Revenue_By_Type.webp\" width=800/> \n",
    "    <figcaption>Federal government revenue (2023)</figcaption>\n",
    "  </figure>\n",
    "  + Apparently companies could use different accounting for reporting and tax-paying purposes. [Reference](https://pages.stern.nyu.edu/~adamodar/New_Home_Page/valquestions/taxrate.htm). "
   ]
  }
 ],
 "metadata": {
  "kernelspec": {
   "display_name": "Python 3 (ipykernel)",
   "language": "python",
   "name": "python3"
  },
  "language_info": {
   "codemirror_mode": {
    "name": "ipython",
    "version": 3
   },
   "file_extension": ".py",
   "mimetype": "text/x-python",
   "name": "python",
   "nbconvert_exporter": "python",
   "pygments_lexer": "ipython3",
   "version": "3.11.7"
  }
 },
 "nbformat": 4,
 "nbformat_minor": 5
}
