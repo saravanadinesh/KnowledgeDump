{
 "cells": [
  {
   "cell_type": "markdown",
   "id": "7fe9ac51-f9e6-4aa6-9531-04dcf1c419c6",
   "metadata": {},
   "source": [
    "# Miscellaneous\n",
    "  + Professor Damodaran in [this](https://aswathdamodaran.blogspot.com/2022/02/) post explains the line items in the income statement very well. In informal terms, *operating expense* is anything one needs to expend for operating an asset (operating all the *operating assets* of the company to be exact) and hence includes COGS. *Operating income* is hence income from revenue after netting for operating expenses. Below operating expense and income, we will find *financing income* coming from non-operating assets such as cash and equivalents. This is followed by *financing expenses* including the interest on debt, loss due to early extinguishment of debt, underwriter fees related to public offerings (because expenses related to equity financing are also financing expenses) etc. \n",
    "      + It is interesting to juxtapose the idea of operating and financing income/expense with that of cashflow items namely *cashflows from operating activities*, *cashflows from financing activities*\n",
    "  + A fully depreciated asset can remain in the company doing productive work (and earning money). However, a fully depreciated asset cannot be depreciated further and hence no depreciation amount can be deducted from the revenue before paying taxes."
   ]
  },
  {
   "cell_type": "markdown",
   "id": "39a8e3c7-f431-4412-a57d-32740208872d",
   "metadata": {},
   "source": [
    "# Taxation in the United States\n",
    "  + **Payroll tax** is the tax withheld by the company from an employee's paycheck. THe company also has to pay a payroll tax on its part, along with paying unemployment tax, if applicable. This is collected at the Federal level, and where applicable, state and local level.\n",
    "  + **Income tax** is tax paid on income *other than* salary income (which is payroll tax). This could include rental income, for example. This is collected at the Federal level, and where applicable, state and local level.\n",
    "  + **Sales tax** is tax collected on items sold. Unlike VAT it is paid only once at the retail level. There is no federal sales tax. 45 states collect sales tax. It is possible that sometimes a state doesn't collect tax, but local governments in that state do. Sometimes the vice-versa is true\n",
    "  <figure>\n",
    "    <img src=\"accounting/State_Sales_Taxes.webp\" width=800/> \n",
    "    <figcaption>Sales taxes (2023)</figcaption>\n",
    "  </figure>\n",
    "  \n",
    "  + **Excise tax** on certain goods like tobacco, diesel. It is collected at federal and sometimes state and local levels\n",
    "  + **Corporate income tax** is collected at all levels. Nominal federal income tax rate is a flat 21%. State corporate taxes vary as shown below.\n",
    "  <figure>\n",
    "    <img src=\"accounting/State_Corporate_Taxes.svg\" width=800/> \n",
    "    <figcaption>State corporate tax (2023)</figcaption>\n",
    "  </figure>\n",
    "  An important point is state and municipal taxes are tax deductible at the federal level.\n",
    "  + Most of the income for the federal government comes from payroll and individual income tax\n",
    "  <figure>\n",
    "    <img src=\"accounting/Federal_Government_Revenue_By_Type.webp\" width=800/> \n",
    "    <figcaption>Federal government revenue (2023)</figcaption>\n",
    "  </figure>\n",
    "  + Apparently companies could use different accounting for reporting and tax-paying purposes. [Reference](https://pages.stern.nyu.edu/~adamodar/New_Home_Page/valquestions/taxrate.htm). \n"
   ]
  }
 ],
 "metadata": {
  "kernelspec": {
   "display_name": "Python 3 (ipykernel)",
   "language": "python",
   "name": "python3"
  },
  "language_info": {
   "codemirror_mode": {
    "name": "ipython",
    "version": 3
   },
   "file_extension": ".py",
   "mimetype": "text/x-python",
   "name": "python",
   "nbconvert_exporter": "python",
   "pygments_lexer": "ipython3",
   "version": "3.10.6"
  }
 },
 "nbformat": 4,
 "nbformat_minor": 5
}
