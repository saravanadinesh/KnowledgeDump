{
 "cells": [
  {
   "cell_type": "markdown",
   "id": "7fe9ac51-f9e6-4aa6-9531-04dcf1c419c6",
   "metadata": {},
   "source": [
    "# Miscellaneous\n",
    "  + Professor Damodaran in [this](https://aswathdamodaran.blogspot.com/2022/02/) post explains the line items in the income statement very well. In informal terms, *operating expense* is anything one needs to expend for operating an asset (operating all the *operating assets* of the company to be exact) and hence includes COGS. *Operating income* is hence income from revenue after netting for operating expenses. Below operating expense and income, we will find *financing income* coming from non-operating assets such as cash and equivalents. This is followed by *financing expenses* including the interest on debt, loss due to early extinguishment of debt, underwriter fees related to public offerings (because expenses related to equity financing are also financing expenses) etc. \n",
    "      + It is interesting to juxtapose the idea of operating and financing income/expense with that of cashflow items namely *cashflows from operating activities*, *cashflows from financing activities*\n",
    "  + A fully depreciated asset can remain in the company doing productive work (and earning money). However, a fully depreciated asset cannot be depreciated further and hence no depreciation amount can be deducted from the revenue before paying taxes."
   ]
  }
 ],
 "metadata": {
  "kernelspec": {
   "display_name": "Python 3 (ipykernel)",
   "language": "python",
   "name": "python3"
  },
  "language_info": {
   "codemirror_mode": {
    "name": "ipython",
    "version": 3
   },
   "file_extension": ".py",
   "mimetype": "text/x-python",
   "name": "python",
   "nbconvert_exporter": "python",
   "pygments_lexer": "ipython3",
   "version": "3.10.6"
  }
 },
 "nbformat": 4,
 "nbformat_minor": 5
}
