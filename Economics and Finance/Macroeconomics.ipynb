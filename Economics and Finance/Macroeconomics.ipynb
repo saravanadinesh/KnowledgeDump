{
 "cells": [
  {
   "cell_type": "markdown",
   "metadata": {},
   "source": [
    "# Barter trading to banking\n",
    "The following is an imaginary account of how banking was born: During the barter trading days, every commodity represented some units of human productivity and exchanged based on the natural conversion factor based on human productivity - Ex. If it took 400 man hours to produce 100 kg of rice and 2 man hours to produce a pair of shoes, then 1 kg of rice would get you two pairs of shoes. It is conceivable that a commodity or a set of commodities emerged as de facto currencies:  Copper, silver and gold may have been chosen for the ease of carrying, storing etc. At some point, someone, such as god fearing priest or a village chief, whom people thought as trustworthy, may have started a service where people could store their gold safely. Customers could have got some bank notes against deposits (which were adjusted as bank notes were given away) at a fixed exchange rate and and started using the bank notes as a currency. \n",
    "\n",
    "An aside: **Trading**: At some point during the early days of barter trading, there could have been a three way tie where A wanted B's good, while B wanted C's good and C wanted A's good. Someone could have figured out that the best way to solve these kinds of problems (that a lot of people must have been having) was to set up a trading business. This would have been the first trader - the first market maker. The trader would have had a bid-ask spread for every pair of goods and would have eventually figured out that it is much easier to have a bid-ask spread for every good against one \"currency\" such as gold and people may have started accepting it as the currency. This may been a way something like gold became the de factor currency.\n",
    "\n",
    "An aside: **Promisory notes**: It is conceivable that sometimes people exchanged a promisory note or an IOU for a good. This is basically exchanging a future commodity for a present commodity. This would have been the first instance of financial engineering. Due the possibility that the future commodity may not materialize, it is conceivable that the IOUs would have been discounted (to a present value) during the exchange. The discount rate would have based on the credibility of the party offering the IOU. Eventually someone must have figured out they could start a storage business for all goods and gave storage IOUs in return that could have eventually became the de facto currency. \n",
    "\n",
    "## Fiscal policy\n",
    "### Concepts\n",
    "  + **Budget or Fiscal Surplus**: $ Revenue - spending $ over a past period (year, quarter etc.). **Fiscal deficit** is just the negative of fiscal surplus\n",
    "  + **Fiscal imbalance**: $ Future\\ Revenue - Future\\ spending $\n",
    "  \n",
    "## Fractional reserve banking\n",
    "Fractional reserve banking came out of the realization by bankers that they could give away more bank notes than the gold they had since not everyone would come to the bank with all the banknotes in circulation and ask for them to be exchanged for gold. The bankers would have had to weigh the opportunities of creating more money about of their deposited money reserve against the risk of a bank run. Eventually banks came under regulations. In most countries today, the central bank of the country regulates how much is this reserve requirement. Central banks hence play an important role in money creation.\n",
    "\n",
    "### Central bank\n",
    "The central bank is the banker of the government and provides to the government a range of services at the operational level, such as:\n",
    "  + Managing the Treasury's single account\n",
    "  + Acting as its fiscal agent (e.g. by running auctions)\n",
    "  + Its settlement agent, and\n",
    "  + Its bond registrar\n",
    "\n",
    "Central bank's profits go to the government. A Central bank cannot become insolvent in its own currency. However, a central bank can become insolvent in liabilities on foreign currency\n",
    "\n",
    "### Monetary supply\n",
    "+ Central bank creates money (paper or digital) and puts it into circulation through\n",
    "  + **Open Market Operations**, where the Central bank buys safe securities - usually short term treasury securities\n",
    "  + **Quantitative Easing**, where the central bank buys long term securities and other assets from commercial banks and financial institutions\n",
    "+ **Fractional reserve banking**: Banks are required to hold only a fraction of customers' deposits (part of their liabilities) in liquid assets\n",
    "  + Central banks set these reserve requirements. Central banks of Anglosphere countries (U.S., U.K, Canada, Australia, and NZ and the three Scandinavian countries do not impose reserve requirements by their at all (But they may still be required to have a reserve by, say, their state govt.s or by FDIC etc.)\n",
    "  + Banks keep these reserves either in a vault in the bank or in their deposit account at the Central bank if they are a member bank. Vault reserve is in paper currency. It is not clear whether their Central bank account will have peper currency or not, but these deposits earn an interest\n",
    "  + \"Member banks\" have the following benefits:\n",
    "      + They can get some interest on their deposits (IOR - Interest on Reserves)\n",
    "      + \"Discount Window\" facility using which members short term (usually overnight) loans directly from the Fed\n",
    "  + Member banks have a reserve requirement (unlike non-member banks which have no such requirement in the U.S.). Whenever a bank's reserves dips below the requirement, they can borrow short-term loans (overnight) from other banks. FOMC (Federal Open Market Committee) sets a target **Fed Funds rate** for this overnight lending. Whenever you hear about the Fed increasing or decreasing rates, this is the rate they are talking about\n",
    "    + Do not confuse this target rate with the actual rate that banks lend to each other - that is determined by market forces and is called the \"Effective fed funds rate\".\n",
    "    + The interest rate on the deposits is different yet. It is called the interest rate on reserve balances (IORB).\n",
    "  + The Fractional reserve banking system accentuates Central bank's OMOs to create new money[Ref 1](https://www.youtube.com/watch?v=3mUi9IZb4T4). [Ref 2](https://www.youtube.com/watch?v=gd8B-zrMSYk), [Ref 3](https://www.youtube.com/watch?v=VJgVdzicv_I), [Ref 4](https://www.youtube.com/watch?v=PASajlCGBTw)\n",
    "  + The gist of fractional reserve banking is that, if the fractional reserve requirements are 10%, and the bank has deposits of \\\\$100K, the bank can create \\\\$900K new money and loan it out. Here is how this works\n",
    "      1. Imagine that a prospective house owner and builder both have accounts in the same bank. Suppose prospective home owner takes out the entire \\\\$900K in loan the bank can lend out and give it to the builder. First the bank creates \\\\$900K of assets out of thin air and write this newly created \\\\$900K in the prospective home owner's account - This essentially increases bank's assets as well as liabilities to $900K: Basically the bank owns the home owner's loan asset, but is liable to let him take out \\\\$900K from his loan account whenever he wants. So technically the bank doesn't enjoy any benefit from creating this new money: The assets and liabilities cancel out and the bank's equity remains the same.\n",
    "      2. The prospective home owner simply transfers the money to the builder. The bank's liability doesn't change: It's \\\\$900K of liability just transferred from owing the home owner to the builder\n",
    "      3. Assuming the savings interest rate is 2% and the loan rate is 4.5%, as the home owner pays back the loan, the bank keeps the 2.5% and simply transfers the remainder to the builder's account as owed interest.\n",
    "      4. The big picture is that the bank benefits only from the difference in the interest rate between deposits and loans and is simply acting as a intermediary where the builder essentially loans out the money to the home owner and the home owner pays back the builder with a 2% interest rate. The builder could have directly done it - The bank added value by assuming risks (that the home owner may not pay back), checking his credibility etc. So the 2.5% that the builder lost by using the bank as intermediary can be thought of as the cost paid to the bank for adding this value \n",
    "+ Banks have long-term assets - the loans they give out - but short term liabilities. By design this leads to [duration mismatch](https://en.wikipedia.org/wiki/Asset%E2%80%93liability_mismatch#:~:text=Duration%20mismatch,-A%20bank%20could&text=If%20the%20liabilities%20become%20due,be%20dilutive%20or%20otherwise%20costly). The reserves only provide liquidity to cover withdrawals within the normal pattern. Banks may find themselves in a shortfall situation when depositors wish to withdraw more funds than the reserves held by the bank. In that event, the bank experiencing the liquidity shortfall may borrow short-term funds in the interbank lending market from banks with a surplus.\n"
   ]
  },
  {
   "cell_type": "markdown",
   "metadata": {},
   "source": []
  }
 ],
 "metadata": {
  "kernelspec": {
   "display_name": "Python 3",
   "language": "python",
   "name": "python3"
  },
  "language_info": {
   "name": "python",
   "version": "3.11.9"
  }
 },
 "nbformat": 4,
 "nbformat_minor": 2
}
