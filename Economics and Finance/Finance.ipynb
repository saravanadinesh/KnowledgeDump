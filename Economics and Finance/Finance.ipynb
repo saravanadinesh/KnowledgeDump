{
 "cells": [
  {
   "cell_type": "markdown",
   "metadata": {},
   "source": [
    "# Finance\n",
    "## Risk Vs. Return\n",
    "Why would anyone invest money instead of keeping the money at home in a safe? it is because we want to grow our money. Why do we want to grow our money? There is a need and greed to do so - The need is that, inflation will render our money less valuable in the future. So we have to grow our money at least as much as inflation devalues our money. The greed is self explanatory. In this section, our entire focus will be on how much growth one expects from an investment - We will start with the simplest of markets, where there is only one security in which we can invest, and introduce more and more securities to see how our decision would change in each case.\n",
    "\n",
    "### Single risk-free bond\n",
    "Suppose the market only has one security - it is a riskless government bond, which offers \\\\$1 after one year. How much should we pay for this bond? Suppose inflation rate is 2\\% yearly. Then it makes sense that, at a minimum, if we stick \\\\$x into a risk-free bond, we should at least get \\\\$x\\*1.02. The reason is, if it doesn't pay at least this much, we would just buy all the non-perishable items in the CPI basket with \\\\$x and keep it home and sell them after 1 year and make \\\\$x\\*(1.02). So if the bond face value is \\\\$1, then we cannot pay more than $ \\frac{\\$1}{1.02} = 0.9803*\\$1 = \\$0.9803 $. The multiplicative factor 0.9803 in the above calculation is called the **discount factor** - It is the factor by which we discount a future dollar. One can think of it as a way of converting a future dollar into today's dollar (just like we would use a conversion factor to go between two different currencies). If we want to converse in terms of the denominator, the value in excess of 1 is called the **rate of return** or simply **return** - i.e., \n",
    "$$ r = \\frac{\\$1}{\\$0.9803} - 1 = \\frac{\\$1 - \\$0.9803}{\\$0.9803} $$ \n",
    "\n",
    "So the return is essentially profit divided by invested amount[<sup>1</sup>](#fn1).\n",
    "\n",
    "U.S. treasury bonds, considered riskfree typically trade at a few basis points above the inflation.\n",
    "\n",
    "### One risk-free bond and one risky bond\n",
    "Now, let us say that we have a choice between a riskfree government bond and a corporate bond that is risky - risky in that, there is a chance of default. Let us say that on a \\\\$1 investment in this bond, there is a 50\\% chance of default where we get \\\\$0 in return after one year and a 50\\% chance that we will get \\\\$2x. This means the expected value of this investment is $ 0.5*\\$0 + 0.5*\\$2x = \\$x $. The question is what should be the value of \\\\$x that will make us invest in the corporate bond instead of the riskfree government bond? Since \\\\$1 invested in a government bond will give us \\\\$1.02, \\\\$x must be greater than \\\\$1.02. How much greater? The answer is entirely a personal choice - And hence it will vary from one person to another. Let us call the return from this risky bond as $ R_i = \\frac{\\$x}{\\$1} - 1 $. Suppose we call the risk free return of the government bond, $ r_f $, we have: \n",
    "    $$ E[R_i] = r_f + risk\\ premium $$\n",
    "    \n",
    "where, the risk premium is the excess return on top of riskless return that we need in order to invest in the corporate bond\n",
    "\n",
    "In the wake of that question, we can make the following additional observations:\n",
    "\n",
    "- The probabilty of default is a prediction. And the prediction may be right or wrong. So the risk premium must contain within it, an uncertainty premium \\- because there is any uncertainty involved at all as compared to a risk-free bond \\- and also a prediction premium because we are taking a risk in making a prediction of the probabilities. In other words, there is a probability that your probability estimates are wrong\n",
    "- Other people in the market may estimate the chances of default differently than us, besides the fact that they may want a demand a different risk premium than we do. \n",
    "- The price of a security, whether or not it is risky, will depend entirely upon supply-demand. So the price may be higher than what we demand or lower. Even though the prices are fixed by the market, our decision to invest or not should depend only on our appetite for taking risks and the returns that we want. There isn't really such a thing as a ``fair price'' for a security. \n",
    "- The predictions about chances of default can be made only with available data - i.e., present and past data. We cannot predict based on future data\n",
    "    \n",
    "An important note before we move on: So far, we have considered government bonds to be risk free. But the truth is, the risk free return is a misnomer because it is just a rate the market collectively demanded as something greater than the rate of inflation - And the rate of inflation itself is a prediction (although very accurate). This is the reason why the price of government bonds (which is a function of only r_f as the cash flows are constants) varies from time to time. If it was truly risk free, that wouldn't be the case!\n",
    "\n",
    "### One risk-free bond and two risky bonds\n",
    "Suppose we have two bonds, A and B, such that, A will pay \\\\$2 or \\\\$0, each with a probability of 0.5, while B will pay \\\\$1.5 or \\\\$0.5, each with a probability of 0.5. Both bond A and bond B have the same expected payoff, but are otherwise different in their payoff-probability structure. Would we pay the same price for both bonds? It doesn't sound right to pay the same price for both bonds. Now consider another scenario: bonds A and B have the same payoffs, namely \\\\$2 or \\\\$0, but with different probabilities - would we pay the same price for both? Again, it doesn't sound right to do so. In this section, we will develop a way to quantify risk and a way to compute the fair price for A given the price for B or vice-versa: Note that, we are going to come up a comparative pricing model, not an absolute pricing model - We are arguing that, while how much to pay for a given risk level may be a personal preference, once the preference is set, how one values two risky assets has to be consistent. \n",
    "\n",
    "In our examples of risky bonds, we have considered, so far, only two payoff possibilities - one when there is a default and one when there isn't - i.e., the bond payoffs are a Bernoulli random variable. In reality, it will be a much more complex random variable with several payoff possibilities and probabilities associated with them. There are many reasons for this:\n",
    "1. The payoff when the company defaults isn't going to be a single value. When a default happens, creditors take control of the company and liquidate assets. Then depending on whether the bond is serior or junior, we will get a payoff proportional to our debt ownership within our bond category. So when we predict this payoff, we can think of several possible scenarios each of which will mean different payoffs for us - And these scenarios will all come with their own probabilities\n",
    "2. The payoff need not always come from the company that issued the bond. If the bond is a security, it can be traded in the market for a higher price that what we got it for. But this means thinking about several kinds of risks starting with market risk, all of which can affect the price of the bond - and hence the returns - in different ways\n",
    "\n",
    "Besides these reasons, even if the bond is indeed a Bernoulli random variable, the only way to meaningfully talk about expected payoffs and returns is if we were to make several observations of this bond - i.e., we toss the coin enough times for the idea of probabilistic outcomes to make sense. So, for any probability based analysis of these bond to make sense, we have to buy the same bond, year-after-year, for many many years and then take a sample average of their returns. As we know from the central limit theorem, we will end up with normal random variables for the average return of both bonds - So we will have to deal with a random variable that has various payoff possibilites and associated probabilities than the simple case of Bernoulli random variables. In this section, for the sake of deriving a meaningful risk vs. return criterion, we will consider the bonds' payoffs as normal random variables.\n",
    "\n",
    "\n",
    "\n",
    "<span id=\"fn1\"> \\*We are assuming that there won't be any tax on the profit. This isn't necessarily true. But for pedagogical reasons, we will assume that there is no tax in any investment. Also we are assuming that there won't be any warehousing cost if we want to buy instead a basket of CPI goods and store them. If this is not true, the returns we demand from a riskfree bond may be even lower than the inflation rate. </span>"
   ]
  }
 ],
 "metadata": {
  "kernelspec": {
   "display_name": "Python 3",
   "language": "python",
   "name": "python3"
  },
  "language_info": {
   "codemirror_mode": {
    "name": "ipython",
    "version": 3
   },
   "file_extension": ".py",
   "mimetype": "text/x-python",
   "name": "python",
   "nbconvert_exporter": "python",
   "pygments_lexer": "ipython3",
   "version": "3.8.5"
  }
 },
 "nbformat": 4,
 "nbformat_minor": 4
}
