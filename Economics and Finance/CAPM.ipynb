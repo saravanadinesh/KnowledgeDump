{
 "cells": [
  {
   "cell_type": "markdown",
   "id": "bfa4097f",
   "metadata": {},
   "source": [
    "# Risk vs. Return\n",
    "We assume that investors think of risk as the standard deviation of returns, $sigma_i$ and would prefer higher expected returns $E[R_i]$ for the same risk or lower risk for the same expected return. We also assume that the markets are efficient. With $\\sigma_i$ as the x-axis and $E[R_i]$ the y-axis, we can plot the location of various securities. Since the risk-free asset is considered, by definition, to have a standard-deviation of 0, its expected return a constant value $R_f$, it will lie on the y-axis at $y=R_f$. One could think of a triangle created by a horizontal line extending out from $R_f$, a vertical line dropping down from a specific security $i$ and a slanting line joining $(0,R_f)$ with $E[R_i], \\sigma_i$. The slope of this line is called the \"Sharpe ratio\". It represents the excess return of a security per unit of risk:\n",
    "\n",
    "$$\n",
    "Sharpe\\ Ratio = \\dfrac{E[R_i]- Rf}{\\sigma_i}\n",
    "$$\n",
    "\n",
    "After plotting several securities on the risk-return plane, any security $a$ northwest of $b$ should be strictly preferred over $b$ under our assumption. It is possible to create portfolios of securities that are northwest of all the constituent securities due to favourable correlations reducing overall standard deviation $\\sigma_p$. An \"Efficient Frontier\" emerges as we keep finding the best portfolios. The market portfolio - i.e., the value weighted combination of all the securities in the market - will be on that efficient frontier. Furthermore, considering that the risk-free asset, which theoretically speaking has a standard deviation of zero and expected return of $R_f$ and hence would like on the y-axis, one could draw a line from the $R_f$ to $(E[R_m], \\sigma_m)$ on the efficient frontier. This line represents all the possible combinations of risk and return of portfolios made entirely of just two assets: The risk-free asset and the market porfolio. This line is called the CML. At this point, it is important to recall that:\n",
    "\n",
    "  1. A security could be a stock or a bond or any tradable asset. So whatever we have said so far doesn't only apply to stocks\n",
    "  2. The market portfolio is the value weighted portfolio of all securities in the market, including stocks, bonds, commodities and what have you. \n",
    "\n",
    "The CML forms a tangential line to the efficient frontier and hence the portfolios on the CML always lie northwest of any other portfolio on the efficient frontier and hence must be strictly preferred. In other words, there is no point in having any portfolio of stocks, no matter your risk preference, because you can always find a porfolio of risk-free asset and the market giving better returns for the same risk or lower risk for the same return. \n",
    "\n",
    "Although the concepts mentioned above, and the CAPM theory described below applies to any security and not only to stocks, we will restrict ourselves to stocks because that is the case in reality: People usually use these ideas only for stocks.\n"
   ]
  },
  {
   "cell_type": "markdown",
   "id": "36a19a3e",
   "metadata": {},
   "source": [
    "\n",
    "# CAPM\n",
    "CAPM takes this idea one step further. It is reasonable to expect the return of a stock will have some relationship with that of the market because the factors influencing the market would also influence the particular company. The scale of the impact of these factors could vary from company to company depending upon many characteristics of their operations such as Leverage (Operating, Financial), Cyclicality of demand, how much sentimentally driven their prices are, complexity of their supply chains and so on. Nevertheless it is conceivable that the excess return of a stock be linearly varying with that of the market with the sensitivity of the relationship determined by the characteristics mentioned above. One could hence run a regression that would look like this:\n",
    "\n",
    "$$\n",
    "R_i - R_f = \\alpha_i + \\beta_i (R_m-R_f) + \\epsilon_i\n",
    "$$\n",
    "\n",
    "From this, we can derive the expected return as \n",
    "\n",
    "$$\n",
    "E[R_i] = R_f + \\alpha_i + \\beta(E[R_m]-R_f])\n",
    "$$\n",
    "\n",
    "Note that $E[\\epsilon_i] = 0$ as is always the case in regressions. The $\\alpha_i$ is called \"Jensen's alpha\", which can be interpreted as the excess return unexplained by the market\n",
    "\n",
    "We can also calculate the standard deviation of the stock as:\n",
    "$$\n",
    "\\sigma_i = \\sqrt{\\beta^2.\\sigma^2_m+\\sigma^2_\\epsilon}\n",
    "$$\n",
    "\n",
    "The expected return and risk of the stock calculated above are essentially the coordinates of the stock in the our risk-return X-Y plane. CAPM states that, if the markets are efficient, then Jensen's alpha would be 0 and therefore\n",
    "\n",
    "$$\n",
    "E[R_i] = R_f + \\beta(E[R_m]-R_f)\n",
    "$$\n",
    "\n",
    "In other words, no matter $\\sigma_i$, $E[R_i]$ can be determined entirely by $R_f$ and $E[R_m]$. Suppose one were to draw a horizontal line in our risk-return plane, starting from $E[R_i]$ as determined by CAPM $\\beta$, going all the way to the right, the stock $i$ in question will like on that line as determined by $\\sigma_i$, but the line will also have all the stocks with the same $\\beta$. Some of those stocks could be to the left of stock $i$, some, on to the right depending upon their respective standard deviations. But none will lie to the left of CML. In other words, in an efficient market, it really doesn't matter what your stock's $\\beta$ is, you can always find a portfolio on the CML consisting of just the risk-free asset and the market - at the intersecting point of the $\\beta$ line and the CML - that has a better risk-return tradeoff than the stock. \n",
    "\n",
    "Furthermore, CAPM also states that theoretically $\\beta = \\dfrac{Cov(R_m,R_f)}{Var(R_m)}$. \n",
    "\n",
    "The intepretation of CAPM result is that the expected return of a stock will be determined entirely by how much of systematic risk - market related risk as determined by $\\beta$ - you are taking by buying the stock. In other words, you will not be \"paid\" for taking the firm-specific, i.e., \"idiosyncratic risk\", $\\epsilon_i$. This is because other investors know they can readily diversity their portfolio in such a way that all idiosyncratic risks cancel out each other. Although, in theory, you can perfectly cancel out all the idiosyncratic risk only if that portfolio is the market portfolio, in reality, with just 20-30 well diversified stocks, one can eliminate 90-95% of it. The marginal benefit of diversifying drops a lot after 20-30 stocks. If we go by 20 stocks as a thumb rule for a well diversified portfolio, the expectation is that no stock will have a weightage of more than $\\dfrac{100\\%}{20} = 5\\%$. \n"
   ]
  },
  {
   "cell_type": "markdown",
   "id": "705fc87c",
   "metadata": {},
   "source": [
    "\n",
    "# Multifactor CAPM\n",
    "Fama-French and many others found out that $R_f$ and $E[R_m]-R_f$ alone do not explain $E[R_i]$ and hence introduced factors such as firm size (\"Small minus big\" SMB) and book-to-market (\"High minus low\" HML). As their naming indicates, including them would account for anomalies (from CAPM perspective) such as small firm outperforming large firms and high book-to-market stocks - i.e., \"value stocks\" - outperforming low book-to-market stocks. The regression with these factors added looks like:\n",
    "\n",
    "$$\n",
    "r_i = r_f + \\alpha_i + \\beta_1 (r_m-r_f) + \\beta_2 (SMB) + \\beta_3 (HML) + \\epsilon\n",
    "$$\n",
    "\n",
    "where,\n",
    "$SMB$ = Historic excess returns of small-cap over large-cap companies\n",
    "$HML$ = Historic excess returns of high book-to-market stocks over low book-to-market stocks\n",
    "\n",
    "The $\\alpha$ out of this equation is different (smaller) from the $\\alpha$ from original CAPM because of how the new factors explain away more of the stock's returns. Carhart added one more factor called \"MOM\" (Monthly Momentum Factor). The alpha from that regression is called \"Carhart alpha\""
   ]
  },
  {
   "cell_type": "markdown",
   "id": "043ddfa5",
   "metadata": {},
   "source": [
    "# Real-world issues\n",
    "1. The risk-free asset has a non-zero standard deviation\n"
   ]
  }
 ],
 "metadata": {
  "language_info": {
   "name": "python"
  }
 },
 "nbformat": 4,
 "nbformat_minor": 5
}
