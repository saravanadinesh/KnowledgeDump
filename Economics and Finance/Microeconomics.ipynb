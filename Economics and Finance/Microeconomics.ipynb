{
 "cells": [
  {
   "cell_type": "markdown",
   "id": "093a466e-4e97-40c0-8c85-bbcb50ed6c7c",
   "metadata": {},
   "source": [
    "# Big picture\n",
    "## The consumer side\n",
    "To buy any product, customers need to see value in that product. This value could be perceived differently by different customers. Combining this will the concept of diminishing returns, this means every customer has his/her own demand curve [^indifference]. The horizontal summation of individual demand curves give us the market demand curve for that product. \n",
    "\n",
    "The most important point to remember is that the demand curve exists no matter what the product is and no matter what the market for that product is (monopoly, monopolistic competition, perfect competition). This is because customers always have the choice to walk away. \n",
    "\n",
    "## The producer side\n",
    "To produce any product, the supplier needs to see it profitable to produce. The supply side cannot decide for how much to sell a product because customers always have the choice to walk away. Producers can only decide how much of the product to produce. They would ideally like to produce such a quantity that maximizes their profits (aka net benefits) [^firm_profit]. Since This happens when marginal revenue equals marginal cost [^parabolic_profits]. In a perfect competition, the market decides the price which hence becomes the marginal revenue. In a monopoly or a monopolistic competition, the marginal revenue is a downward sloping line. In a perfect competition, for various price points, every firm decides how much to produce based on $MR=MC$ giving rise to the supply curve for that firm. The market supply curve is the horizontal summation of the individual supply curves. In monopolies and monopolistic competition, there is no supply curve - the firms decide how much to produce based on $MR=MC$, but then look up the price the market is willing to pay for that quantity and sell at that price (and take whatever profits that result from it).\n",
    "\n",
    "## Important observations\n",
    "**The marginal cost curve will intersect the AVC and ATC curves at their respective minimas** if we assume that the fixed cost is a flat line function of quantity, i.e., $FC(Q) = FC(Q+1) = FC$. It is quite easy to see this for ATC. At the point where $ATC(Q)$ is at a minimum, $ATC(Q+1) = ATC(Q)$. Hence the marginal cost is:\n",
    "\n",
    "$$\n",
    "\\begin{align*}\n",
    "MC(Q) &= \\dfrac{C(Q+1) - C(Q)}{1} \\\\\n",
    "&= ATC(Q+1)*(Q+1) - ATC(Q)*Q \\\\\n",
    "&= ATC(Q)*(Q+1) - ATC(Q)*Q \\\\\n",
    "&= ATC(Q)\n",
    "\\end{align*}\n",
    "$$\n",
    "\n",
    "Similarly at the minima of $AVC(Q)$, we have:\n",
    "$$\n",
    "\\begin{align*}\n",
    "MC(Q) &= \\dfrac{C(Q+1) - C(Q)}{1} \\\\\n",
    "&= FC(Q+1) + AVC(Q+1)*(Q+1) - (FC(Q) + AVC(Q)*Q) \\\\\n",
    "&= FC + AVC(Q)*(Q+1) - (FC + AVC(Q)*Q) \\\\\n",
    "&= AVC(Q)\n",
    "\\end{align*}\n",
    "$$\n",
    "\n",
    "** ATC will approach AVC if fixed costs don't change**. If we assume that the fixed cost is indeed fixed, then AFC(Q) will be a rapidly decreasing curve as it is just FC/Q. Since $ATC(Q) = AFC(Q) + AVC(Q)$, ATC(Q) will get closer and closer to AVC(Q) as quantity increases.\n",
    "\n",
    "[^indifference]: Remember that value is benefits divided by opportunity costs and the oppotunity costs are nothing but the benfits of alternatives to the product. This is where the concept of indifference curves comes in. Every customer has his/her own indifference curves between consuming thie product in question (let us call is X) and something else (an abstraction of all other products combined) (let us call it Y). The point at which the customer's budget line is a tangent to one of the indifference curves is the \"equilibrium point\". This point determines how much of X (and Y) the customer would consume. Note that this equilibrium point (and hence the quantity of the product consumed) changes with the price of both the product in question and that of the alternatives.\n",
    "\n",
    "[^firm_profit]: Anytime we talk about benefits or costs or profits, unless mentioned otherwise, they mean the firm's total benefits, costs and profits respectively. They are never the benefit/cost/profit on the nth unit - that would be the marginal benefit/cost/profit.\n",
    "\n",
    "[^parabolic_profits]: The average variable costs as a function of quantity are usually parabolic in nature: They decrease first due to economies of scale and, after a point, increase because of scarcity and having to source from multiple suppliers. The average fixed cost as a funciton of quantity will be a downward sloping curve rapidly approching 0 (invese of quantity scaled by the fixed cost) until a point and then will jump up sharply - Eventually you would have build a new factory or buy a new pizza oven or build a new building) and then become downward sloping again. So the average total cost would look like a funny parabola. The total costs, which is simply the quantity times the average total cost is hence also expected to look like a funny parabola. The total revenue could look like an upward sloping line (perfectly competitive market) or a parabola that goes up and then goes down (monopoly, monopolistic competition). Since total profits = total revenue - total costs, it is expected that total profits will also approximately be a second-order function of quantity. This means, it will have a single maxima. To find the quantity at which the profit is maximized, we need to equate marginal profit to zero, which is the same as equating marginal revenue to marginal costs."
   ]
  }
 ],
 "metadata": {
  "kernelspec": {
   "display_name": "Python 3 (ipykernel)",
   "language": "python",
   "name": "python3"
  },
  "language_info": {
   "codemirror_mode": {
    "name": "ipython",
    "version": 3
   },
   "file_extension": ".py",
   "mimetype": "text/x-python",
   "name": "python",
   "nbconvert_exporter": "python",
   "pygments_lexer": "ipython3",
   "version": "3.11.7"
  }
 },
 "nbformat": 4,
 "nbformat_minor": 5
}
